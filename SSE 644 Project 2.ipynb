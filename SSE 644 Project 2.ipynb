{
 "cells": [
  {
   "cell_type": "markdown",
   "metadata": {},
   "source": [
    "SSE 644 Project 2\n",
    "=====================\n",
    "Sarah Kashin\n",
    "\n",
    "October 30, 2017"
   ]
  },
  {
   "cell_type": "markdown",
   "metadata": {},
   "source": [
    "Table Of Contents\n",
    "=====================\n"
   ]
  },
  {
   "cell_type": "markdown",
   "metadata": {},
   "source": [
    "Introduction\n",
    "=====================\n",
    "\n",
    "This paper presents the topics learned in  the first three chapters of *IPython Interactive Computing and Visulization Cookbook* by Cyrille Rossant.  IPython is a command shell for interactive computing.  It was originally developed for Python, however it can be used in multiple programming languages.  Python 3.6 was used in Jupyter Notebook for this project.  Jupyter is a web based interactive notebook used for displaying and sharing of scientific research so that results and work can easily be understood by other researchers.  The user is able to write code in cells and run each cell individually or multiple cells together.  The output is shown below the cell.  This is extremely useful, as the user can run and troubleshoot cells one at a time.  Cells can output much more than just strings and calculations.  Cells also can output rich text and multimedia in order to explain the code as the user goes.\n",
    "\n",
    "\n",
    "IPython is ideal when learning to analyze and visualize data.  Python is a language that enables people to quickly and efficiently write code to solve problems. It uses simplified syntax for readability as well as contains libraries that will perform large tasks for programmers.  This paper discusses the project developed to demonstrate the topics learned in the text and also highlights some additional topics.  The final code and indirect activity report are included in the appendices.\n"
   ]
  },
  {
   "cell_type": "markdown",
   "metadata": {},
   "source": [
    "### Females in Engineering\n",
    "\n",
    "Even though engineering is a growing field, there are still many more males than females in the field.  I have experienced this discrepency myself ad I was the only female electrical engineering major at Mercer University in my year.  My mother, who graduated as an electrical engineering major 30 years ago, also experienced the discrepency in male-female engineers in universities.  I am extremely interested in analyzing the statistics of female engineers in the United States and thus have focused on this in this paper.\n",
    "\n",
    "Statistics were used from the National Science Foundation (NSF) and are analyzed in the following sections."
   ]
  },
  {
   "cell_type": "markdown",
   "metadata": {},
   "source": [
    "Developed Project\n",
    "====\n",
    "\n",
    "### Scientific Packages\n",
    "Importing scientific packages allows the user to use the tools within the packages.  The packages in this project are numpy, pandas, and matplotlib.  Pandas is a library that provides structures and functions for manipulating data as well as provides a means to visualize this data. Matplotlib is used to further visualize the data. \n"
   ]
  },
  {
   "cell_type": "code",
   "execution_count": 90,
   "metadata": {},
   "outputs": [],
   "source": [
    "import numpy as np\n",
    "import pandas as pd\n",
    "import matplotlib.pyplot as plt\n",
    "from IPython.html.widgets import interact\n",
    "\n",
    "%matplotlib inline"
   ]
  },
  {
   "cell_type": "markdown",
   "metadata": {},
   "source": [
    "### Data from CSV\n",
    "A CSV is a Comma-separated values data file.  A CSV was used to import the values of the total number of engineers that graduated from 1995-2014 and the statistics for each gender."
   ]
  },
  {
   "cell_type": "code",
   "execution_count": 91,
   "metadata": {},
   "outputs": [
    {
     "name": "stdout",
     "output_type": "stream",
     "text": [
      "     All recipients  Female    Male  \\\n",
      "Year                                  \n",
      "1995         63,371  10,950  52,421   \n",
      "1996         63,077  11,314  51,763   \n",
      "1997         62,356  11,471  50,885   \n",
      "1998         60,925  11,341  49,584   \n",
      "1999         60,207  11,774  48,433   \n",
      "2000         59,487  12,206  47,281   \n",
      "2001         59,214  11,912  47,302   \n",
      "2002         60,605  12,682  47,923   \n",
      "2003         63,789  12,980  50,809   \n",
      "2004         64,680  13,263  51,417   \n",
      "2005         66,152  13,203  52,949   \n",
      "2006         68,227  13,338  54,889   \n",
      "2007         68,274  12,653  55,621   \n",
      "2008         69,908  12,921  56,987   \n",
      "2009         70,600  12,750  57,850   \n",
      "2010         74,399  13,693  60,706   \n",
      "2011         78,099  14,658  63,441   \n",
      "2012         83,263  15,981  67,282   \n",
      "2013         87,812  16,934  70,878   \n",
      "2014         93,950  18,626  75,324   \n",
      "\n",
      "      Percentage of  Female Engineering Graduates  \n",
      "Year                                               \n",
      "1995                                        17.28  \n",
      "1996                                        17.94  \n",
      "1997                                        18.40  \n",
      "1998                                        18.61  \n",
      "1999                                        19.56  \n",
      "2000                                        20.52  \n",
      "2001                                        20.12  \n",
      "2002                                        20.93  \n",
      "2003                                        20.35  \n",
      "2004                                        20.51  \n",
      "2005                                        19.96  \n",
      "2006                                        19.55  \n",
      "2007                                        18.53  \n",
      "2008                                        18.48  \n",
      "2009                                        18.06  \n",
      "2010                                        18.40  \n",
      "2011                                        18.77  \n",
      "2012                                        19.19  \n",
      "2013                                        19.28  \n",
      "2014                                        19.83  \n"
     ]
    }
   ],
   "source": [
    "url = \"./female_engineer_stats.csv\"\n",
    "df = pd.read_csv(url, index_col = \"Year\", parse_dates = False)\n",
    "print(df)"
   ]
  },
  {
   "cell_type": "markdown",
   "metadata": {},
   "source": [
    "### Interactive Widget\n",
    "The interactive widget below allows for the comparison of the percentage of females that graduated with engineering between 1995 and 2014.  The two sliders, minYear and maxYear, allow for the display of a range of years' worth of data. However, if the maxYear value is lower than or equal to the minYear value then only the maxYear value will be displayed."
   ]
  },
  {
   "cell_type": "code",
   "execution_count": 92,
   "metadata": {},
   "outputs": [
    {
     "data": {
      "application/vnd.jupyter.widget-view+json": {
       "model_id": "775c7e0e1d264b98beff8a3d523a65d8"
      }
     },
     "metadata": {},
     "output_type": "display_data"
    }
   ],
   "source": [
    "@interact\n",
    "def describe(minYear=(1995, 2014), maxYear=(1995, 2014)):\n",
    "    if(maxYear < minYear):\n",
    "        minYear = maxYear\n",
    "    print(df[df.index.map(lambda x: x.year >= minYear and x.year <= maxYear)]\n",
    "          [['Percentage of  Female Engineering Graduates']].describe())"
   ]
  },
  {
   "cell_type": "markdown",
   "metadata": {},
   "source": [
    "### Females in Engineering 1995-2014\n",
    "The following table show the number of people that graduated with engineering degrees between 1995 and 2014.  The table shows all recipients, the number of each gender, and the percentage of females that graduated with engineering degrees.  "
   ]
  },
  {
   "cell_type": "code",
   "execution_count": 93,
   "metadata": {},
   "outputs": [
    {
     "data": {
      "text/html": [
       "<div>\n",
       "<style>\n",
       "    .dataframe thead tr:only-child th {\n",
       "        text-align: right;\n",
       "    }\n",
       "\n",
       "    .dataframe thead th {\n",
       "        text-align: left;\n",
       "    }\n",
       "\n",
       "    .dataframe tbody tr th {\n",
       "        vertical-align: top;\n",
       "    }\n",
       "</style>\n",
       "<table border=\"1\" class=\"dataframe\">\n",
       "  <thead>\n",
       "    <tr style=\"text-align: right;\">\n",
       "      <th></th>\n",
       "      <th>All recipients</th>\n",
       "      <th>Female</th>\n",
       "      <th>Male</th>\n",
       "      <th>Percentage of  Female Engineering Graduates</th>\n",
       "    </tr>\n",
       "    <tr>\n",
       "      <th>Year</th>\n",
       "      <th></th>\n",
       "      <th></th>\n",
       "      <th></th>\n",
       "      <th></th>\n",
       "    </tr>\n",
       "  </thead>\n",
       "  <tbody>\n",
       "    <tr>\n",
       "      <th>1995</th>\n",
       "      <td>63,371</td>\n",
       "      <td>10,950</td>\n",
       "      <td>52,421</td>\n",
       "      <td>17.28</td>\n",
       "    </tr>\n",
       "    <tr>\n",
       "      <th>1996</th>\n",
       "      <td>63,077</td>\n",
       "      <td>11,314</td>\n",
       "      <td>51,763</td>\n",
       "      <td>17.94</td>\n",
       "    </tr>\n",
       "    <tr>\n",
       "      <th>1997</th>\n",
       "      <td>62,356</td>\n",
       "      <td>11,471</td>\n",
       "      <td>50,885</td>\n",
       "      <td>18.40</td>\n",
       "    </tr>\n",
       "    <tr>\n",
       "      <th>1998</th>\n",
       "      <td>60,925</td>\n",
       "      <td>11,341</td>\n",
       "      <td>49,584</td>\n",
       "      <td>18.61</td>\n",
       "    </tr>\n",
       "    <tr>\n",
       "      <th>1999</th>\n",
       "      <td>60,207</td>\n",
       "      <td>11,774</td>\n",
       "      <td>48,433</td>\n",
       "      <td>19.56</td>\n",
       "    </tr>\n",
       "    <tr>\n",
       "      <th>2000</th>\n",
       "      <td>59,487</td>\n",
       "      <td>12,206</td>\n",
       "      <td>47,281</td>\n",
       "      <td>20.52</td>\n",
       "    </tr>\n",
       "    <tr>\n",
       "      <th>2001</th>\n",
       "      <td>59,214</td>\n",
       "      <td>11,912</td>\n",
       "      <td>47,302</td>\n",
       "      <td>20.12</td>\n",
       "    </tr>\n",
       "    <tr>\n",
       "      <th>2002</th>\n",
       "      <td>60,605</td>\n",
       "      <td>12,682</td>\n",
       "      <td>47,923</td>\n",
       "      <td>20.93</td>\n",
       "    </tr>\n",
       "    <tr>\n",
       "      <th>2003</th>\n",
       "      <td>63,789</td>\n",
       "      <td>12,980</td>\n",
       "      <td>50,809</td>\n",
       "      <td>20.35</td>\n",
       "    </tr>\n",
       "    <tr>\n",
       "      <th>2004</th>\n",
       "      <td>64,680</td>\n",
       "      <td>13,263</td>\n",
       "      <td>51,417</td>\n",
       "      <td>20.51</td>\n",
       "    </tr>\n",
       "    <tr>\n",
       "      <th>2005</th>\n",
       "      <td>66,152</td>\n",
       "      <td>13,203</td>\n",
       "      <td>52,949</td>\n",
       "      <td>19.96</td>\n",
       "    </tr>\n",
       "    <tr>\n",
       "      <th>2006</th>\n",
       "      <td>68,227</td>\n",
       "      <td>13,338</td>\n",
       "      <td>54,889</td>\n",
       "      <td>19.55</td>\n",
       "    </tr>\n",
       "    <tr>\n",
       "      <th>2007</th>\n",
       "      <td>68,274</td>\n",
       "      <td>12,653</td>\n",
       "      <td>55,621</td>\n",
       "      <td>18.53</td>\n",
       "    </tr>\n",
       "    <tr>\n",
       "      <th>2008</th>\n",
       "      <td>69,908</td>\n",
       "      <td>12,921</td>\n",
       "      <td>56,987</td>\n",
       "      <td>18.48</td>\n",
       "    </tr>\n",
       "    <tr>\n",
       "      <th>2009</th>\n",
       "      <td>70,600</td>\n",
       "      <td>12,750</td>\n",
       "      <td>57,850</td>\n",
       "      <td>18.06</td>\n",
       "    </tr>\n",
       "    <tr>\n",
       "      <th>2010</th>\n",
       "      <td>74,399</td>\n",
       "      <td>13,693</td>\n",
       "      <td>60,706</td>\n",
       "      <td>18.40</td>\n",
       "    </tr>\n",
       "    <tr>\n",
       "      <th>2011</th>\n",
       "      <td>78,099</td>\n",
       "      <td>14,658</td>\n",
       "      <td>63,441</td>\n",
       "      <td>18.77</td>\n",
       "    </tr>\n",
       "    <tr>\n",
       "      <th>2012</th>\n",
       "      <td>83,263</td>\n",
       "      <td>15,981</td>\n",
       "      <td>67,282</td>\n",
       "      <td>19.19</td>\n",
       "    </tr>\n",
       "    <tr>\n",
       "      <th>2013</th>\n",
       "      <td>87,812</td>\n",
       "      <td>16,934</td>\n",
       "      <td>70,878</td>\n",
       "      <td>19.28</td>\n",
       "    </tr>\n",
       "    <tr>\n",
       "      <th>2014</th>\n",
       "      <td>93,950</td>\n",
       "      <td>18,626</td>\n",
       "      <td>75,324</td>\n",
       "      <td>19.83</td>\n",
       "    </tr>\n",
       "  </tbody>\n",
       "</table>\n",
       "</div>"
      ],
      "text/plain": [
       "     All recipients  Female    Male  \\\n",
       "Year                                  \n",
       "1995         63,371  10,950  52,421   \n",
       "1996         63,077  11,314  51,763   \n",
       "1997         62,356  11,471  50,885   \n",
       "1998         60,925  11,341  49,584   \n",
       "1999         60,207  11,774  48,433   \n",
       "2000         59,487  12,206  47,281   \n",
       "2001         59,214  11,912  47,302   \n",
       "2002         60,605  12,682  47,923   \n",
       "2003         63,789  12,980  50,809   \n",
       "2004         64,680  13,263  51,417   \n",
       "2005         66,152  13,203  52,949   \n",
       "2006         68,227  13,338  54,889   \n",
       "2007         68,274  12,653  55,621   \n",
       "2008         69,908  12,921  56,987   \n",
       "2009         70,600  12,750  57,850   \n",
       "2010         74,399  13,693  60,706   \n",
       "2011         78,099  14,658  63,441   \n",
       "2012         83,263  15,981  67,282   \n",
       "2013         87,812  16,934  70,878   \n",
       "2014         93,950  18,626  75,324   \n",
       "\n",
       "      Percentage of  Female Engineering Graduates  \n",
       "Year                                               \n",
       "1995                                        17.28  \n",
       "1996                                        17.94  \n",
       "1997                                        18.40  \n",
       "1998                                        18.61  \n",
       "1999                                        19.56  \n",
       "2000                                        20.52  \n",
       "2001                                        20.12  \n",
       "2002                                        20.93  \n",
       "2003                                        20.35  \n",
       "2004                                        20.51  \n",
       "2005                                        19.96  \n",
       "2006                                        19.55  \n",
       "2007                                        18.53  \n",
       "2008                                        18.48  \n",
       "2009                                        18.06  \n",
       "2010                                        18.40  \n",
       "2011                                        18.77  \n",
       "2012                                        19.19  \n",
       "2013                                        19.28  \n",
       "2014                                        19.83  "
      ]
     },
     "execution_count": 93,
     "metadata": {},
     "output_type": "execute_result"
    }
   ],
   "source": [
    "df.head(20)"
   ]
  },
  {
   "cell_type": "code",
   "execution_count": null,
   "metadata": {
    "collapsed": true
   },
   "outputs": [],
   "source": [
    "year = df['Year']\n",
    "males = df['Male']\n",
    "males = df['Female']\n",
    "plot1 = "
   ]
  }
 ],
 "metadata": {
  "kernelspec": {
   "display_name": "Python 3",
   "language": "python",
   "name": "python3"
  },
  "language_info": {
   "codemirror_mode": {
    "name": "ipython",
    "version": 3
   },
   "file_extension": ".py",
   "mimetype": "text/x-python",
   "name": "python",
   "nbconvert_exporter": "python",
   "pygments_lexer": "ipython3",
   "version": "3.6.1"
  }
 },
 "nbformat": 4,
 "nbformat_minor": 2
}
